{
 "cells": [
  {
   "cell_type": "markdown",
   "id": "e343e3bd-48b7-401f-97ec-46275242e0ca",
   "metadata": {},
   "source": [
    "# 📊 Model Comparison – CV Lab Part II\n",
    "\n",
    "**Author:** Tsion Bizuayehu  \n",
    "**Course:** MSc AI – Addis Ababa University  \n",
    "**Lab Focus:** Comparing KNN, SVM, and Decision Tree classifiers on synthetic image data\n",
    "\n",
    "---\n",
    "\n",
    "## 🧠 Objectives\n",
    "\n",
    "- Train and evaluate three classifiers: KNN, SVM, Decision Tree  \n",
    "- Use synthetic grayscale image data (64×64)  \n",
    "- Compare accuracy and confusion matrices  \n",
    "- Visualize performance side-by-side\n",
    "\n",
    "---\n",
    "\n",
    "\n",
    "\n"
   ]
  },
  {
   "cell_type": "markdown",
   "id": "61348b35-a9eb-4252-973e-ec4b7bed8fc6",
   "metadata": {},
   "source": [
    "## 📦 Environment Setup\n",
    "\n",
    "This notebook uses Python 3.12 and the following key libraries:\n",
    "\n",
    "- `numpy` for numerical operations  \n",
    "- `matplotlib` and `seaborn` for visualization  \n",
    "- `scikit-learn` for loading the digit dataset and training classifiers\n",
    "\n",
    "Make sure your environment is activated (e.g., via Anaconda or virtualenv), and the required packages are installed. You can install them using:\n",
    "\n",
    "```bash\n",
    "pip install numpy matplotlib seaborn scikit-learn\n"
   ]
  },
  {
   "cell_type": "code",
   "execution_count": 20,
   "id": "d0ff65b6-3738-439a-8530-08962a9bde99",
   "metadata": {},
   "outputs": [],
   "source": [
    "\n",
    "\n",
    "# Core libraries\n",
    "import numpy as np\n",
    "import matplotlib.pyplot as plt\n",
    "import seaborn as sns\n",
    "\n",
    "# Machine learning tools\n",
    "from sklearn.datasets import load_digits\n",
    "from sklearn.model_selection import train_test_split\n",
    "from sklearn.metrics import classification_report, accuracy_score, confusion_matrix\n",
    "from sklearn.neighbors import KNeighborsClassifier\n",
    "from sklearn.svm import SVC\n",
    "from sklearn.tree import DecisionTreeClassifier\n",
    "\n",
    "# Visualization settings\n",
    "sns.set(style=\"whitegrid\")\n",
    "plt.rcParams[\"figure.figsize\"] = (8, 6)\n"
   ]
  },
  {
   "cell_type": "markdown",
   "id": "8a5e6876-2f13-472c-9ea5-62083e45add2",
   "metadata": {},
   "source": [
    "## 📦 Dataset Generation\n",
    "\n",
    "We use the built-in digit dataset from `sklearn.datasets.load_digits`. It contains 1,797 grayscale images of handwritten digits (0–9), each sized 8×8 pixels. Each image is flattened into a 64-dimensional feature vector, making it ideal for training classifiers like KNN, SVM, and Decision Tree.\n",
    "\n",
    "The dataset is already labeled and preprocessed, so no manual image handling is required.\n"
   ]
  },
  {
   "cell_type": "code",
   "execution_count": 23,
   "id": "5b7915dd-cbf7-4c5a-a185-3a2bcbd9a80d",
   "metadata": {},
   "outputs": [
    {
     "name": "stdout",
     "output_type": "stream",
     "text": [
      "Total samples: 1797\n",
      "Training samples: 1257\n",
      "Test samples: 540\n"
     ]
    }
   ],
   "source": [
    "\n",
    "\n",
    "# Load the digit dataset\n",
    "digits = load_digits()\n",
    "X = digits.data  # Flattened 8x8 grayscale images\n",
    "y = digits.target  # Digit labels (0–9)\n",
    "\n",
    "# Split into training and test sets\n",
    "X_train, X_test, y_train, y_test = train_test_split(\n",
    "    X, y, test_size=0.3, random_state=42\n",
    ")\n",
    "\n",
    "print(f\"Total samples: {len(X)}\")\n",
    "print(f\"Training samples: {len(X_train)}\")\n",
    "print(f\"Test samples: {len(X_test)}\")\n"
   ]
  },
  {
   "cell_type": "markdown",
   "id": "38f5e7e0-3048-4dfc-9039-306ea8d8af63",
   "metadata": {},
   "source": [
    "## Visualize Sample Digits"
   ]
  },
  {
   "cell_type": "code",
   "execution_count": 26,
   "id": "90cd0931-b963-4d99-802e-3bb8bb6c9ce2",
   "metadata": {},
   "outputs": [
    {
     "data": {
      "image/png": "[encoded data removed]",
      "text/plain": [
       "<Figure size 1000x300 with 5 Axes>"
      ]
     },
     "metadata": {},
     "output_type": "display_data"
    }
   ],
   "source": [
    "\n",
    "fig, axes = plt.subplots(1, 5, figsize=(10, 3))\n",
    "for i, ax in enumerate(axes):\n",
    "    ax.imshow(digits.images[i], cmap=\"gray\")\n",
    "    ax.set_title(f\"Label: {digits.target[i]}\")\n",
    "    ax.axis(\"off\")\n",
    "plt.tight_layout()\n",
    "plt.show()\n"
   ]
  },
  {
   "cell_type": "markdown",
   "id": "20ac3cf6-4eb4-450c-a11d-db9fdea84639",
   "metadata": {},
   "source": [
    "## 🧪 Model Training & Evaluation\n",
    "\n",
    "We train three classifiers on the digit dataset:\n",
    "\n",
    "- **K-Nearest Neighbors (KNN)** with `k=3`\n",
    "- **Support Vector Machine (SVM)** with a linear kernel\n",
    "- **Decision Tree** with default depth\n",
    "\n",
    "Each model is trained on 70% of the data and evaluated on the remaining 30%. We report accuracy and a full classification report for each.\n"
   ]
  },
  {
   "cell_type": "code",
   "execution_count": 29,
   "id": "21229bb5-04fc-4122-a912-4b8766480d95",
   "metadata": {},
   "outputs": [
    {
     "name": "stdout",
     "output_type": "stream",
     "text": [
      "🔍 KNN Accuracy: 0.99\n",
      "              precision    recall  f1-score   support\n",
      "\n",
      "           0       1.00      1.00      1.00        53\n",
      "           1       0.98      1.00      0.99        50\n",
      "           2       1.00      1.00      1.00        47\n",
      "           3       0.98      1.00      0.99        54\n",
      "           4       0.98      1.00      0.99        60\n",
      "           5       0.99      1.00      0.99        66\n",
      "           6       1.00      1.00      1.00        53\n",
      "           7       1.00      0.98      0.99        55\n",
      "           8       0.98      0.98      0.98        43\n",
      "           9       0.98      0.93      0.96        59\n",
      "\n",
      "    accuracy                           0.99       540\n",
      "   macro avg       0.99      0.99      0.99       540\n",
      "weighted avg       0.99      0.99      0.99       540\n",
      "\n",
      "🔍 SVM Accuracy: 0.98\n",
      "              precision    recall  f1-score   support\n",
      "\n",
      "           0       1.00      1.00      1.00        53\n",
      "           1       0.98      0.98      0.98        50\n",
      "           2       0.98      1.00      0.99        47\n",
      "           3       1.00      0.96      0.98        54\n",
      "           4       0.98      0.98      0.98        60\n",
      "           5       0.97      0.97      0.97        66\n",
      "           6       1.00      1.00      1.00        53\n",
      "           7       0.96      0.98      0.97        55\n",
      "           8       0.95      0.98      0.97        43\n",
      "           9       0.97      0.95      0.96        59\n",
      "\n",
      "    accuracy                           0.98       540\n",
      "   macro avg       0.98      0.98      0.98       540\n",
      "weighted avg       0.98      0.98      0.98       540\n",
      "\n",
      "🔍 Decision Tree Accuracy: 0.84\n",
      "              precision    recall  f1-score   support\n",
      "\n",
      "           0       0.92      0.91      0.91        53\n",
      "           1       0.74      0.78      0.76        50\n",
      "           2       0.83      0.74      0.79        47\n",
      "           3       0.78      0.85      0.81        54\n",
      "           4       0.81      0.85      0.83        60\n",
      "           5       0.92      0.86      0.89        66\n",
      "           6       0.93      0.94      0.93        53\n",
      "           7       0.85      0.84      0.84        55\n",
      "           8       0.89      0.77      0.82        43\n",
      "           9       0.78      0.85      0.81        59\n",
      "\n",
      "    accuracy                           0.84       540\n",
      "   macro avg       0.85      0.84      0.84       540\n",
      "weighted avg       0.85      0.84      0.84       540\n",
      "\n"
     ]
    }
   ],
   "source": [
    "\n",
    "# Define models\n",
    "models = {\n",
    "    \"KNN\": KNeighborsClassifier(n_neighbors=3),\n",
    "    \"SVM\": SVC(kernel=\"linear\"),\n",
    "    \"Decision Tree\": DecisionTreeClassifier(random_state=42)\n",
    "}\n",
    "\n",
    "# Store results\n",
    "results = {}\n",
    "\n",
    "# Train and evaluate each model\n",
    "for name, model in models.items():\n",
    "    model.fit(X_train, y_train)\n",
    "    y_pred = model.predict(X_test)\n",
    "    \n",
    "    acc = accuracy_score(y_test, y_pred)\n",
    "    cm = confusion_matrix(y_test, y_pred)\n",
    "    \n",
    "    results[name] = {\n",
    "        \"model\": model,\n",
    "        \"accuracy\": acc,\n",
    "        \"confusion_matrix\": cm,\n",
    "        \"report\": classification_report(y_test, y_pred, output_dict=True)\n",
    "    }\n",
    "    \n",
    "    print(f\"🔍 {name} Accuracy: {acc:.2f}\")\n",
    "    print(classification_report(y_test, y_pred))\n"
   ]
  },
  {
   "cell_type": "markdown",
   "id": "6e2b6a4f-fb13-4ec2-9099-5c2bae3f7a3f",
   "metadata": {},
   "source": [
    "## 📊 Confusion Matrix Visualization\n",
    "\n",
    "Confusion matrices show how well each classifier distinguishes between digit classes. Each row represents the actual label, and each column represents the predicted label. Diagonal values indicate correct predictions.\n",
    "\n",
    "We visualize confusion matrices for KNN, SVM, and Decision Tree using `seaborn` heatmaps.\n"
   ]
  },
  {
   "cell_type": "code",
   "execution_count": 15,
   "id": "adfb1c28-a2dc-43d3-9b0e-a3b189779171",
   "metadata": {},
   "outputs": [
    {
     "data": {
      "image/png": "[encoded data removed]",
      "text/plain": [
       "<Figure size 1800x500 with 6 Axes>"
      ]
     },
     "metadata": {},
     "output_type": "display_data"
    }
   ],
   "source": [
    "import seaborn as sns\n",
    "import matplotlib.pyplot as plt\n",
    "\n",
    "fig, axes = plt.subplots(1, 3, figsize=(18, 5))\n",
    "\n",
    "for ax, (name, res) in zip(axes, results.items()):\n",
    "    cm = res[\"confusion_matrix\"]\n",
    "    sns.heatmap(cm, annot=True, fmt=\"d\", cmap=\"Blues\", ax=ax, cbar=False)\n",
    "    ax.set_title(f\"{name} Confusion Matrix\")\n",
    "    ax.set_xlabel(\"Predicted\")\n",
    "    ax.set_ylabel(\"Actual\")\n",
    "\n",
    "plt.tight_layout()\n",
    "plt.show()\n"
   ]
  },
  {
   "cell_type": "code",
   "execution_count": null,
   "id": "013a6f01-2805-4670-b415-bd89c8a0ddf5",
   "metadata": {},
   "outputs": [],
   "source": []
  }
 ],
 "metadata": {
  "kernelspec": {
   "display_name": "Python 3 (ipykernel)",
   "language": "python",
   "name": "python3"
  },
  "language_info": {
   "codemirror_mode": {
    "name": "ipython",
    "version": 3
   },
   "file_extension": ".py",
   "mimetype": "text/x-python",
   "name": "python",
   "nbconvert_exporter": "python",
   "pygments_lexer": "ipython3",
   "version": "3.12.7"
  }
 },
 "nbformat": 4,
 "nbformat_minor": 5
}
