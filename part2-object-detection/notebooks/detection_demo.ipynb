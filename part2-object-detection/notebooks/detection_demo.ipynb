{
 "cells": [
  {
   "cell_type": "markdown",
   "id": "2d0d28ae-7687-4d7e-b70f-5d2bf3d79cc6",
   "metadata": {},
   "source": [
    "# 🧪 Object Detection Demo – Haar & HOG\n",
    "\n",
    "This notebook demonstrates classical object detection using OpenCV:\n",
    "- Face detection with Haar cascades\n",
    "- Pedestrian detection with HOG + SVM\n",
    "\n",
    "Images are loaded from the shared `images/` directory.\n"
   ]
  },
  {
   "cell_type": "markdown",
   "id": "93cd0f9f-dc5e-434b-b1a8-0935a69d58cc",
   "metadata": {},
   "source": [
    "## Environment Setup"
   ]
  },
  {
   "cell_type": "code",
   "execution_count": 4,
   "id": "fb1f058c-0ee0-4bac-9fb1-d472c9b1a8d3",
   "metadata": {},
   "outputs": [],
   "source": [
    "import cv2\n",
    "import numpy as np\n",
    "import matplotlib.pyplot as plt\n",
    "\n",
    "def show_image(img, title=\"Image\"):\n",
    "    plt.imshow(cv2.cvtColor(img, cv2.COLOR_BGR2RGB))\n",
    "    plt.title(title)\n",
    "    plt.axis(\"off\")\n",
    "    plt.show()\n"
   ]
  },
  {
   "cell_type": "markdown",
   "id": "d62aad07-0e60-4dea-ad90-e6a256aa2fd5",
   "metadata": {},
   "source": [
    "## Haar Face Detection"
   ]
  },
  {
   "cell_type": "code",
   "execution_count": null,
   "id": "0cb061c9-792a-4c61-9b53-a84e8984e166",
   "metadata": {},
   "outputs": [],
   "source": []
  }
 ],
 "metadata": {
  "kernelspec": {
   "display_name": "Python 3 (ipykernel)",
   "language": "python",
   "name": "python3"
  },
  "language_info": {
   "codemirror_mode": {
    "name": "ipython",
    "version": 3
   },
   "file_extension": ".py",
   "mimetype": "text/x-python",
   "name": "python",
   "nbconvert_exporter": "python",
   "pygments_lexer": "ipython3",
   "version": "3.12.7"
  }
 },
 "nbformat": 4,
 "nbformat_minor": 5
}
